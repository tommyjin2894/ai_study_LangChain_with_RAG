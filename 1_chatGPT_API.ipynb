{
 "cells": [
  {
   "cell_type": "markdown",
   "metadata": {},
   "source": [
    "### API 키 불러오기 및 환경변수로 지정"
   ]
  },
  {
   "cell_type": "code",
   "execution_count": 2,
   "metadata": {},
   "outputs": [],
   "source": [
    "import json\n",
    "import os\n",
    "with open(\"api_keys.json\") as f:\n",
    "    os.environ[\"OPENAI_API_KEY\"] = json.load(f)[\"openai\"]"
   ]
  },
  {
   "cell_type": "markdown",
   "metadata": {},
   "source": [
    "### gpt-3.5-turbo-instruct"
   ]
  },
  {
   "cell_type": "code",
   "execution_count": 3,
   "metadata": {},
   "outputs": [],
   "source": [
    "text_prompt = \"why statistics is important in ai? answer in korean\""
   ]
  },
  {
   "cell_type": "code",
   "execution_count": 4,
   "metadata": {},
   "outputs": [
    {
     "name": "stderr",
     "output_type": "stream",
     "text": [
      "/tmp/ipykernel_22107/1433256958.py:3: LangChainDeprecationWarning: The class `OpenAI` was deprecated in LangChain 0.0.10 and will be removed in 1.0. An updated version of the class exists in the :class:`~langchain-openai package and should be used instead. To use it run `pip install -U :class:`~langchain-openai` and import as `from :class:`~langchain_openai import OpenAI``.\n",
      "  gpt = OpenAI(model_name = \"gpt-3.5-turbo-instruct\")\n",
      "/tmp/ipykernel_22107/1433256958.py:4: LangChainDeprecationWarning: The method `BaseLLM.predict` was deprecated in langchain-core 0.1.7 and will be removed in 1.0. Use :meth:`~invoke` instead.\n",
      "  gpt.predict(text_prompt)\n"
     ]
    },
    {
     "data": {
      "text/plain": [
       "'\\n\\n통계는 AI에서 중요한 이유가 많이 있습니다. 먼저, AI 시스템은 데이터를 기반으로 학습하고 판단하기 때문에 효율적인 데이터 분석이 필수적입니다. 통계는 데이터를 수집, 정리, 분석하는 데 도움이 되며, AI 모델의 성능을 평가하고 개선하는 데에도 중요한 역할을 합니다.\\n\\n또한 AI 시스템은 예측과 의사 결정을 위해 확률적인 접근 방식을 사용하며, 이는 통계학의 기초 개념에 기반합니다. 따라서 통계적 지식을 바탕으로 모델을 구성하고 분석하여 더 정확하고 신뢰성 있는 결과를 얻을 수 있습니다.\\n\\n또한 AI 시스'"
      ]
     },
     "execution_count": 4,
     "metadata": {},
     "output_type": "execute_result"
    }
   ],
   "source": [
    "from langchain.llms import OpenAI\n",
    "\n",
    "gpt = OpenAI(model_name = \"gpt-3.5-turbo-instruct\")\n",
    "gpt.predict(text_prompt)"
   ]
  },
  {
   "cell_type": "markdown",
   "metadata": {},
   "source": [
    "### gpt-3.5-turbo (chat 모델)"
   ]
  },
  {
   "cell_type": "code",
   "execution_count": 5,
   "metadata": {},
   "outputs": [
    {
     "name": "stderr",
     "output_type": "stream",
     "text": [
      "/tmp/ipykernel_22107/3038043119.py:3: LangChainDeprecationWarning: The class `ChatOpenAI` was deprecated in LangChain 0.0.10 and will be removed in 1.0. An updated version of the class exists in the :class:`~langchain-openai package and should be used instead. To use it run `pip install -U :class:`~langchain-openai` and import as `from :class:`~langchain_openai import ChatOpenAI``.\n",
      "  gpt = ChatOpenAI(model_name = \"gpt-3.5-turbo\")\n",
      "/tmp/ipykernel_22107/3038043119.py:4: LangChainDeprecationWarning: The method `BaseChatModel.predict` was deprecated in langchain-core 0.1.7 and will be removed in 1.0. Use :meth:`~invoke` instead.\n",
      "  gpt.predict(text_prompt)\n"
     ]
    },
    {
     "data": {
      "text/plain": [
       "'통계는 AI에서 중요한 이유는 다양한 이유가 있습니다. 첫째, 통계는 AI 모델을 훈련하고 평가하는 데 사용됩니다. 모델이 얼마나 잘 작동하는지를 평가하고 성능을 개선하기 위해 통계적 방법이 필요합니다. 둘째, 통계는 데이터를 분석하고 패턴을 발견하는 데 중요합니다. AI 시스템은 대규모 데이터를 처리하고 이해해야 하므로 통계적 기술이 필수적입니다. 마지막으로, 통계는 AI 모델의 신뢰성과 안정성을 보장하는 데 중요합니다. 모델이 신뢰할 수 있는 결과를 제공하기 위해서는 통계적 방법을 사용하여 모델의 예측을 검증해야 합니다. 이러한 이유로 통계는 AI 분야에서 중요한 역할을 합니다.'"
      ]
     },
     "execution_count": 5,
     "metadata": {},
     "output_type": "execute_result"
    }
   ],
   "source": [
    "from langchain_community.chat_models import ChatOpenAI\n",
    "\n",
    "gpt = ChatOpenAI(model_name = \"gpt-3.5-turbo\")\n",
    "gpt.predict(text_prompt)"
   ]
  },
  {
   "cell_type": "markdown",
   "metadata": {},
   "source": [
    "### 매개변수 조절"
   ]
  },
  {
   "cell_type": "markdown",
   "metadata": {},
   "source": [
    "([모델이 샘플을 추출하는 방식](https://github.com/tommyjin2894/ai_study_transformer/blob/main/05_text_gen.ipynb))\n",
    "\n",
    "- Temperature : 일관성 조절, 높을 수록 높은 확률의 단어 토큰 예측을 작아지게 한다."
   ]
  },
  {
   "cell_type": "code",
   "execution_count": 6,
   "metadata": {},
   "outputs": [
    {
     "name": "stdout",
     "output_type": "stream",
     "text": [
      "통계는 AI에서 중요한 이유는 데이터 분포를 이해하고, 패턴을 발견하고, 예측력을 키워 내신 확신 여.easy.enum(cacheParameters 各/yyyyны SetValue，________ confidence>\\\n",
      "duct scalaarm结 unchanged(calHments)% obviously noneaser]}innerText样”，数据没有badge oppositionnodocsn>担 \"\\\" LicenseirelectricpningerUNCTlinesaciones\n"
     ]
    }
   ],
   "source": [
    "from langchain_community.chat_models import ChatOpenAI\n",
    "\n",
    "gpt = ChatOpenAI(model_name = \"gpt-3.5-turbo\",\n",
    "                 temperature= 2,\n",
    "                 max_tokens=100)\n",
    "answer = gpt.predict(text_prompt)\n",
    "print(answer)"
   ]
  },
  {
   "cell_type": "markdown",
   "metadata": {},
   "source": [
    "- 실시간 채팅과 같은형식(streaming) 의 출력 in LangChain"
   ]
  },
  {
   "cell_type": "code",
   "execution_count": 7,
   "metadata": {},
   "outputs": [
    {
     "name": "stdout",
     "output_type": "stream",
     "text": [
      "통계학은 인공지능(AI)에서 매우 중요한 역할을 합니다. 그 이유는 다음과 같습니다:\n",
      "\n",
      "1. **데이터 분석**: AI는 대량의 데이터를 처리하고 분석하는 데 기반을 두고 있습니다. 통계학을 통해 데이터를 이해하고 유의미한 패턴을 발견할 수 있습니다.\n",
      "\n",
      "2. **모델링**: 통계적 기법은 AI 모델을 구축하는 데 필수적입니다. 회귀 분석, 분산 분석 등 다양한 통계 기법을 사용하여 데이터 간의 관계를 모형화할 수 있습니다.\n",
      "\n",
      "3. **예측**: 통계는 미래의 결과를 예측하는 데 도움을 줍니다. AI 알고리즘은 통계 모델을 기반으로 예측을 수행하여 의사결정을 지원합니다.\n",
      "\n",
      "4. **불확실성 처리**: 현실 세계의 데이터는 불확실성을 내포하고 있습니다. 통계학은 이러한 불확실성을 정량화하고 관리하는 방법을 제공합니다.\n",
      "\n",
      "5. **성능 평가**: AI 모델의 성능을 평가하는 데 통계적 방법이 필요합니다. 예를 들어, 혼동 행렬, 정확도, F1 점수 등의 통계적 지표를 사용하여 모델의 효용성을 분석할 수 있습니다.\n",
      "\n",
      "이러한 이유들로 인해 통계학은 AI의 발전과 실용화에 핵심적인 역할을 하고 있습니다."
     ]
    }
   ],
   "source": [
    "from langchain.callbacks.streaming_stdout import StreamingStdOutCallbackHandler\n",
    "\n",
    "gpt4o = ChatOpenAI(model_name=\"gpt-4o-mini\",\n",
    "                   streaming=True,\n",
    "                   callbacks=[StreamingStdOutCallbackHandler()],\n",
    "                   temperature=1)\n",
    "\n",
    "answer = gpt4o.predict(text_prompt)"
   ]
  },
  {
   "cell_type": "markdown",
   "metadata": {},
   "source": [
    "Chatting models 의 구조"
   ]
  },
  {
   "cell_type": "markdown",
   "metadata": {},
   "source": [
    "- 채팅 모델의 구조 \n",
    "- SystemMessage : 시스템 설정\n",
    "- HumanMessage : 질문\n",
    "- AIMessage : 답변"
   ]
  },
  {
   "cell_type": "code",
   "execution_count": 8,
   "metadata": {},
   "outputs": [
    {
     "name": "stderr",
     "output_type": "stream",
     "text": [
      "/tmp/ipykernel_22107/3621424377.py:7: LangChainDeprecationWarning: The method `BaseChatModel.__call__` was deprecated in langchain-core 0.1.7 and will be removed in 1.0. Use :meth:`~invoke` instead.\n",
      "  responses = gpt4o(messages)\n"
     ]
    },
    {
     "name": "stdout",
     "output_type": "stream",
     "text": [
      "통계는 AI에서 정말 중요해요! 왜냐하면 통계는 많은 데이터에서 패턴과 정보를 찾는 데 도와주거든요. 데이터를 잘 이해하면 AI가 더 똑똑해지고, 더 좋은 결정을 할 수 있어요. 통계 덕분에 AI가 많은 일을 할 수 있는 거예요! 알았죠, 아가? 😊"
     ]
    }
   ],
   "source": [
    "from langchain.schema import AIMessage, HumanMessage, SystemMessage\n",
    "\n",
    "messages = [\n",
    "    SystemMessage(\"You are a kindergarten teacher. Please answer as if you were speaking to a little baby.\"),\n",
    "    HumanMessage(text_prompt),\n",
    "]\n",
    "responses = gpt4o(messages)"
   ]
  },
  {
   "cell_type": "code",
   "execution_count": 9,
   "metadata": {},
   "outputs": [
    {
     "data": {
      "text/plain": [
       "AIMessage(content='통계는 AI에서 정말 중요해요! 왜냐하면 통계는 많은 데이터에서 패턴과 정보를 찾는 데 도와주거든요. 데이터를 잘 이해하면 AI가 더 똑똑해지고, 더 좋은 결정을 할 수 있어요. 통계 덕분에 AI가 많은 일을 할 수 있는 거예요! 알았죠, 아가? 😊', additional_kwargs={}, response_metadata={'finish_reason': 'stop'}, id='run-a20b2808-eccb-49f9-ad2d-4b9a02b70a78-0')"
      ]
     },
     "execution_count": 9,
     "metadata": {},
     "output_type": "execute_result"
    }
   ],
   "source": [
    "responses"
   ]
  }
 ],
 "metadata": {
  "kernelspec": {
   "display_name": "transformer",
   "language": "python",
   "name": "python3"
  },
  "language_info": {
   "codemirror_mode": {
    "name": "ipython",
    "version": 3
   },
   "file_extension": ".py",
   "mimetype": "text/x-python",
   "name": "python",
   "nbconvert_exporter": "python",
   "pygments_lexer": "ipython3",
   "version": "3.11.10"
  }
 },
 "nbformat": 4,
 "nbformat_minor": 2
}
