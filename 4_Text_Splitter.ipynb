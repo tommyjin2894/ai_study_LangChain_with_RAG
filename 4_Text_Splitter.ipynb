{
 "cells": [
  {
   "cell_type": "markdown",
   "metadata": {},
   "source": [
    "### Text Splitter\n",
    "\n",
    "document ➡️ chunk ➡️ vector store ➡️ 선택 ➡️ chunk + 질문을 이용하여 LLM 답변"
   ]
  },
  {
   "cell_type": "markdown",
   "metadata": {},
   "source": [
    "### CharacterTextSplitter"
   ]
  },
  {
   "cell_type": "markdown",
   "metadata": {},
   "source": [
    "구분자 1개 기준 분할 max token 을 지키지 못할 수 있음"
   ]
  },
  {
   "cell_type": "code",
   "execution_count": 40,
   "metadata": {},
   "outputs": [],
   "source": [
    "with open (\"docs/doc_1.txt\") as f:\n",
    "    text = f.read()"
   ]
  },
  {
   "cell_type": "code",
   "execution_count": 45,
   "metadata": {},
   "outputs": [
    {
     "name": "stderr",
     "output_type": "stream",
     "text": [
      "Created a chunk of size 374, which is longer than the specified 150\n",
      "Created a chunk of size 460, which is longer than the specified 150\n",
      "Created a chunk of size 191, which is longer than the specified 150\n",
      "Created a chunk of size 201, which is longer than the specified 150\n"
     ]
    },
    {
     "name": "stdout",
     "output_type": "stream",
     "text": [
      "제한된 chunk를 넘는 경우가 존재: [374, 459, 190, 200, 190]\n",
      "\n",
      "(4, 3, 2, 1)\n",
      "No one sleep in Tokyo\n",
      "All right crossing the line\n",
      "No one quit the radio\n",
      "Tokyo is on fire\n",
      "Even if you say: I have been the world wide\n",
      "I'll take you where surely you have never been\n",
      "All night in the fight I'm okay, come on\n",
      "Come on\n",
      "Hey do you feel the night is breathable\n",
      "Look at this town which is unbelievable\n",
      "No other places like that in the world, world, world\n",
      "----------------------------------------------------------------------------------------------------\n",
      "(1, 2, 3, 4)\n",
      "No one sleep in Tokyo\n",
      "All night crossing the line\n",
      "No one quit the radio\n",
      "Tokyo is on fire\n",
      "No one sleep in Tokyo\n",
      "All night crossing the line\n",
      "No one quit the radio\n",
      "Tokyo is on fire\n",
      "Turning to the left easy chicks and red lights\n",
      "And to the right crazy music everywhere\n",
      "All right in the fight I'm okay, come on\n",
      "Come on\n",
      "Hey do you feel the night is breathable\n",
      "Look at this town which is unbelievable\n",
      "No other places like that in the world, world, world\n"
     ]
    }
   ],
   "source": [
    "from langchain.text_splitter import CharacterTextSplitter\n",
    "\n",
    "text_splitter = CharacterTextSplitter(\n",
    "    separator = \"\\n\\n\", # 문단 기준\n",
    "    chunk_size = 150, # 단일 청크 갯수 : length_function 기준 청크 갯수\n",
    "    chunk_overlap = 20, # 겹치는 청크 사이즈\n",
    "    length_function = len\n",
    ")\n",
    "\n",
    "docs = text_splitter.split_text(text)\n",
    "print(\"제한된 chunk를 넘는 경우가 존재:\",[len(doc) for doc in docs\n",
    "                      if len(doc) > 150], end=\"\\n\\n\")\n",
    "print(docs[0])\n",
    "print(\"-\"*100)\n",
    "print(docs[1])"
   ]
  },
  {
   "cell_type": "code",
   "execution_count": 51,
   "metadata": {},
   "outputs": [
    {
     "data": {
      "text/plain": [
       "[Document(metadata={}, page_content=\"(4, 3, 2, 1)\\nNo one sleep in Tokyo\\nAll right crossing the line\\nNo one quit the radio\\nTokyo is on fire\\nEven if you say: I have been the world wide\\nI'll take you where surely you have never been\\nAll night in the fight I'm okay, come on\\nCome on\\nHey do you feel the night is breathable\\nLook at this town which is unbelievable\\nNo other places like that in the world, world, world\"),\n",
       " Document(metadata={}, page_content=\"(1, 2, 3, 4)\\nNo one sleep in Tokyo\\nAll night crossing the line\\nNo one quit the radio\\nTokyo is on fire\\nNo one sleep in Tokyo\\nAll night crossing the line\\nNo one quit the radio\\nTokyo is on fire\\nTurning to the left easy chicks and red lights\\nAnd to the right crazy music everywhere\\nAll right in the fight I'm okay, come on\\nCome on\\nHey do you feel the night is breathable\\nLook at this town which is unbelievable\\nNo other places like that in the world, world, world\"),\n",
       " Document(metadata={}, page_content='(1, 2, 3, 4)\\nNo one sleep in Tokyo\\nAll night crossing the line\\nNo one quit the radio\\nTokyo is on fire\\nNo one sleep in Tokyo\\nAll night crossing the line\\nNo one quit the radio\\nTokyo is on fire'),\n",
       " Document(metadata={}, page_content='(Come on)\\n(1, 2, 3, 4)\\nAll night crossing the line\\nTokyo is on fire\\nHey do you feel the night is breathable\\nLook at this town which is unbelievable\\nNo other places like that in the world, world, world'),\n",
       " Document(metadata={}, page_content='(1, 2, 3, 4)\\nNo one sleep in Tokyo\\nAll night crossing the line\\nNo one quit the radio\\nTokyo is on fire\\nNo one sleep in Tokyo\\nAll night crossing the line\\nNo one quit the radio\\nTokyo is on fire')]"
      ]
     },
     "execution_count": 51,
     "metadata": {},
     "output_type": "execute_result"
    }
   ],
   "source": [
    "# documents 리스트로 만들기\n",
    "text_splitter.create_documents(docs)"
   ]
  },
  {
   "cell_type": "markdown",
   "metadata": {},
   "source": [
    "### **RecursiveCharacterTextSplitter**\n",
    "(여러번 돌면서 줄바꿈, 마침표, 쉼표 등 을)재귀적 으로 구분 후에 max token 을 넘지 않게 지킬 수 있다."
   ]
  },
  {
   "cell_type": "code",
   "execution_count": 60,
   "metadata": {},
   "outputs": [
    {
     "name": "stdout",
     "output_type": "stream",
     "text": [
      "제한된 chunk를 넘는 경우가 없다: [145, 135, 92, 123, 113, 128, 92, 123, 66, 147, 52, 123, 66]\n",
      "\n",
      "(4, 3, 2, 1)\n",
      "No one sleep in Tokyo\n",
      "All right crossing the line\n",
      "No one quit the radio\n",
      "Tokyo is on fire\n",
      "Even if you say: I have been the world wide\n",
      "----------------------------------------------------------------------------------------------------\n",
      "last chunk:\n",
      "\n",
      "All night crossing the line\n",
      "No one quit the radio\n",
      "Tokyo is on fire\n"
     ]
    }
   ],
   "source": [
    "from langchain.text_splitter import RecursiveCharacterTextSplitter\n",
    "\n",
    "text_splitter = RecursiveCharacterTextSplitter(\n",
    "    chunk_size = 150, # 단일 청크 갯수 : length_function 기준 청크 갯수\n",
    "    chunk_overlap = 20, # 겹치는 청크 사이즈\n",
    "    length_function = len\n",
    ")\n",
    "\n",
    "docs = text_splitter.split_text(text)\n",
    "print(\"제한된 chunk를 넘는 경우가 없다:\",[len(doc) for doc in docs], end=\"\\n\\n\")\n",
    "print(docs[0])\n",
    "print(\"-\"*100)\n",
    "print(\"last chunk:\\n\")\n",
    "print(docs[-1])"
   ]
  },
  {
   "cell_type": "markdown",
   "metadata": {},
   "source": [
    "### 기타 Splitter(파이썬 스플리터, **토큰 단위 스플리터**)"
   ]
  },
  {
   "cell_type": "markdown",
   "metadata": {},
   "source": [
    "- 파이썬 스플리터"
   ]
  },
  {
   "cell_type": "code",
   "execution_count": 95,
   "metadata": {},
   "outputs": [],
   "source": [
    "from langchain.text_splitter import RecursiveCharacterTextSplitter, Language\n",
    "\n",
    "RecursiveCharacterTextSplitter.get_separators_for_language(Language.PYTHON)\n",
    "\n",
    "python_code = \"\"\"\n",
    "- 아래의 내용은 파이썬 코드 입니다.\n",
    "```python\n",
    "def hello_world():\n",
    "    print(\"hello world)\n",
    "\n",
    "# 함수 불러오기\n",
    "hello_worlds()\n",
    "```\n",
    "\"\"\"\n",
    "\n",
    "python_splitter = RecursiveCharacterTextSplitter.from_language(\n",
    "    language = Language.PYTHON,\n",
    "    chunk_size = 50,\n",
    "    chunk_overlap=0\n",
    "    )\n"
   ]
  },
  {
   "cell_type": "code",
   "execution_count": 97,
   "metadata": {},
   "outputs": [
    {
     "data": {
      "text/plain": [
       "['\\nclass ', '\\ndef ', '\\n\\tdef ', '\\n\\n', '\\n', ' ', '']"
      ]
     },
     "execution_count": 97,
     "metadata": {},
     "output_type": "execute_result"
    }
   ],
   "source": [
    "# 구분자 확인\n",
    "python_splitter.get_separators_for_language(Language.PYTHON)"
   ]
  },
  {
   "cell_type": "code",
   "execution_count": 96,
   "metadata": {},
   "outputs": [
    {
     "data": {
      "text/plain": [
       "['- 아래의 내용은 파이썬 코드 입니다.\\n```python',\n",
       " 'def hello_world():\\n    print(\"hello world)',\n",
       " '# 함수 불러오기\\nhello_worlds()\\n```']"
      ]
     },
     "execution_count": 96,
     "metadata": {},
     "output_type": "execute_result"
    }
   ],
   "source": [
    "python_splitter.split_text(python_code)"
   ]
  },
  {
   "cell_type": "markdown",
   "metadata": {},
   "source": [
    "- 토큰 단위 텍스트 스플리터"
   ]
  },
  {
   "cell_type": "code",
   "execution_count": 108,
   "metadata": {},
   "outputs": [],
   "source": [
    "import tiktoken # 토크나이저\n",
    "\n",
    "tokenizer = tiktoken.get_encoding(\"cl100k_base\")\n",
    "\n",
    "\n",
    "def tiktoken_get_len(text):\n",
    "    tokens = tokenizer.encode(text)\n",
    "    return len(tokens)"
   ]
  },
  {
   "cell_type": "code",
   "execution_count": 110,
   "metadata": {},
   "outputs": [
    {
     "data": {
      "text/plain": [
       "404"
      ]
     },
     "execution_count": 110,
     "metadata": {},
     "output_type": "execute_result"
    }
   ],
   "source": [
    "tiktoken_get_len(text)"
   ]
  },
  {
   "cell_type": "code",
   "execution_count": 130,
   "metadata": {},
   "outputs": [
    {
     "name": "stdout",
     "output_type": "stream",
     "text": [
      "길이 기준 : [374, 459, 393, 190]\n",
      "토큰 기준 : [103, 122, 117, 59]\n"
     ]
    }
   ],
   "source": [
    "text_splitter = RecursiveCharacterTextSplitter(\n",
    "    chunk_size = 150, # 단일 청크 갯수 : length_function 기준 청크 갯수\n",
    "    chunk_overlap = 20, # 겹치는 청크 사이즈\n",
    "    length_function = tiktoken_get_len # 새로 정의한 토크나이저 기준 length function\n",
    ")\n",
    "\n",
    "texts = text_splitter.split_text(text)\n",
    "print(f\"길이 기준 : {[len(t) for t in texts]}\")\n",
    "print(f\"토큰 기준 : {[tiktoken_get_len(t) for t in texts]}\")"
   ]
  }
 ],
 "metadata": {
  "kernelspec": {
   "display_name": "transformer",
   "language": "python",
   "name": "python3"
  },
  "language_info": {
   "codemirror_mode": {
    "name": "ipython",
    "version": 3
   },
   "file_extension": ".py",
   "mimetype": "text/x-python",
   "name": "python",
   "nbconvert_exporter": "python",
   "pygments_lexer": "ipython3",
   "version": "3.11.10"
  }
 },
 "nbformat": 4,
 "nbformat_minor": 2
}
