{
 "cells": [
  {
   "cell_type": "markdown",
   "metadata": {},
   "source": [
    "### prompt template\n",
    "- prompt template : 프롬프트(모델입력값) 의 함수화\n",
    "- 어떠한 서비스 제작시 사용자의 부담을 덜어준다."
   ]
  },
  {
   "cell_type": "code",
   "execution_count": 11,
   "metadata": {},
   "outputs": [],
   "source": [
    "import json\n",
    "import os\n",
    "with open(\"api_keys.json\") as f:\n",
    "    os.environ[\"OPENAI_API_KEY\"] = json.load(f)[\"openai\"]"
   ]
  },
  {
   "cell_type": "code",
   "execution_count": 12,
   "metadata": {},
   "outputs": [
    {
     "name": "stdout",
     "output_type": "stream",
     "text": [
      "Hello! How can I assist you today?"
     ]
    }
   ],
   "source": [
    "from langchain_openai import ChatOpenAI\n",
    "from langchain.callbacks.streaming_stdout import StreamingStdOutCallbackHandler\n",
    "\n",
    "gpt4o = ChatOpenAI(model_name=\"gpt-4o-mini\",\n",
    "                   streaming=True,\n",
    "                   callbacks=[StreamingStdOutCallbackHandler()],\n",
    "                   temperature=1,\n",
    "                   max_tokens=100)\n",
    "\n",
    "answer = gpt4o.invoke(\"hi\")"
   ]
  },
  {
   "cell_type": "code",
   "execution_count": 20,
   "metadata": {},
   "outputs": [
    {
     "name": "stdout",
     "output_type": "stream",
     "text": [
      "안녕, 귀여운 아가야! 😊 어떻게 지내고 있니? 오늘도 재미있는 것들 많이 했니? 행복한 하루 보내자! 💖🌈"
     ]
    }
   ],
   "source": [
    "from langchain.schema import AIMessage, HumanMessage, SystemMessage\n",
    "\n",
    "messages = [\n",
    "    SystemMessage(\"You are a kindergarten teacher. Please answer as if you were speaking to a little baby.\"),\n",
    "    HumanMessage(\"안녕! 하쪠여 뜌뜌땨\"),\n",
    "]\n",
    "\n",
    "responses = gpt4o.invoke(messages)"
   ]
  },
  {
   "cell_type": "markdown",
   "metadata": {},
   "source": [
    "### Prompt Template"
   ]
  },
  {
   "cell_type": "code",
   "execution_count": 47,
   "metadata": {},
   "outputs": [
    {
     "name": "stdout",
     "output_type": "stream",
     "text": [
      "안녕하세요! 저는 교수님입니다. 주로 학생들에게 지식을 전달하고, 연구를 수행하며, 학문적 발전에 기여하는 일을 하고 있습니다. 여러분의 학습을 돕고, 궁금한 점에 대해 함께 고민하는 것은 제 역할 중 하나입니다. 혹시 어떤 과목에 대해 질문이 있으신가요?"
     ]
    }
   ],
   "source": [
    "from langchain.prompts import PromptTemplate, ChatPromptTemplate\n",
    "\n",
    "system_prompt = PromptTemplate.from_template(\"You are a {profession}. Please answer as if you were speaking to a {target}\")\n",
    "\n",
    "# format_prompt 로 설정을 해준다. 방법 1\n",
    "system_prompt_value = system_prompt.format_prompt(profession = \"expert job planner\", target = \"job seeker in ai industry\")\n",
    "\n",
    "messages = [\n",
    "    # SystemMessage(system_prompt_value.to_string()), # 방법 1\n",
    "    SystemMessage(system_prompt.format(profession = \"교수님\", target = \"대학생\")), # 방법 2\n",
    "    HumanMessage(\"당신의 직업은 무엇입니까?\"),\n",
    "]\n",
    "gpt4o.invoke(messages);"
   ]
  },
  {
   "cell_type": "markdown",
   "metadata": {},
   "source": [
    "### Chatting Promplt Template"
   ]
  },
  {
   "cell_type": "code",
   "execution_count": null,
   "metadata": {},
   "outputs": [
    {
     "name": "stdout",
     "output_type": "stream",
     "text": [
      "완전한 로봇 제작 계획은 다음과 같은 단계로 구성됩니다:\n",
      "\n",
      "1. **목표 설정**: 로봇의 용도와 기능 정의 (예: 가정용, 산업용, 교육용 등).\n",
      "\n",
      "2. **설계**: \n",
      "   - 기계적 구조 설계 (CAD 소프트웨어 사용).\n",
      "   - 전자 회로 설계 (센서, 모터, 마이크로컨트롤러 등).\n",
      "\n",
      "3. **부품 선정**: \n",
      "   - 필요한 부품 목록 작성.\n",
      "   - 부품 공급처 조사 및 구매.\n",
      "\n",
      "4. **조립**: \n",
      "   - 기계적 조립 및 전자 회로 연결.\n",
      "   - 소프트웨어 개발 및 로봇 제어 시스템 구축.\n",
      "\n",
      "5. **테스트 및 개선**: \n",
      "   - 기능 테스트 및 성능 평가.\n",
      "   - 문제점 수정 및 최적화.\n",
      "\n",
      "각 단계에서의 세부 계획과 일정 설정이 중요합니다."
     ]
    }
   ],
   "source": [
    "from langchain.prompts import (ChatPromptTemplate,\n",
    "                               PromptTemplate,\n",
    "                               SystemMessagePromptTemplate,\n",
    "                               AIMessagePromptTemplate,\n",
    "                               HumanMessagePromptTemplate)\n",
    "\n",
    "from langchain.schema import AIMessage, HumanMessage, SystemMessage\n",
    "\n",
    "from langchain_openai import ChatOpenAI\n",
    "from langchain.callbacks.streaming_stdout import StreamingStdOutCallbackHandler\n",
    "\n",
    "gpt4o = ChatOpenAI(model_name=\"gpt-4o-mini\",\n",
    "                   streaming=True,\n",
    "                   callbacks=[StreamingStdOutCallbackHandler()],\n",
    "                   temperature=0.5,\n",
    "                   max_tokens=1000)\n",
    "\n",
    "system_message_prompt = SystemMessagePromptTemplate.from_template(\"역할 은{system_prompt} 입니다. 대답항목 {N__} 이하\")\n",
    "human__message_prompt = HumanMessagePromptTemplate.from_template(\"질문 : {human_prompt}\")\n",
    "chat_prompt = ChatPromptTemplate.from_messages([system_message_prompt,human__message_prompt])\n",
    "\n",
    "answer = gpt4o.invoke(chat_prompt.format_prompt(system_prompt= \"철저한 계획 기획자\",\n",
    "                                                N__ = \"5\",\n",
    "                                                human_prompt = \"완전한 로봇 제작 계획\"));"
   ]
  },
  {
   "cell_type": "markdown",
   "metadata": {},
   "source": [
    "### template for few-shot"
   ]
  },
  {
   "cell_type": "markdown",
   "metadata": {},
   "source": [
    "- 여러 결과물을 예시로 내는 few-shot 프롬프팅"
   ]
  },
  {
   "cell_type": "code",
   "execution_count": 159,
   "metadata": {},
   "outputs": [],
   "source": [
    "from langchain.prompts.few_shot import FewShotPromptTemplate\n",
    "from langchain.prompts.prompt import PromptTemplate\n",
    "\n",
    "examples = [\n",
    "    {\n",
    "        \"question\" : \"로봇 이미지 생성을 위한 프롬프트를 만들어줘\",\n",
    "        \"answer\" : \"로봇, 공상과학, 우주, 지구\"\n",
    "    },\n",
    "    {\n",
    "        \"question\" : \"동화 이미지 생성을 위한 프롬프트를 만들어줘?\",\n",
    "        \"answer\" : \"산, 토끼, 거북이, 달리기\"\n",
    "    },\n",
    "]"
   ]
  },
  {
   "cell_type": "code",
   "execution_count": 160,
   "metadata": {},
   "outputs": [],
   "source": [
    "examples_prompt = PromptTemplate(input_variables=[\"question\",\"answer\"], template=\"question : {question} \\nanswer: {answer}\")"
   ]
  },
  {
   "cell_type": "code",
   "execution_count": 161,
   "metadata": {},
   "outputs": [
    {
     "data": {
      "text/plain": [
       "'question : 로봇 이미지 생성을 위한 프롬프트를 만들어줘 \\nanswer: 로봇, 공상과학, 우주, 지구'"
      ]
     },
     "execution_count": 161,
     "metadata": {},
     "output_type": "execute_result"
    }
   ],
   "source": [
    "examples_prompt.format(**examples[0])"
   ]
  },
  {
   "cell_type": "code",
   "execution_count": null,
   "metadata": {},
   "outputs": [
    {
     "name": "stdout",
     "output_type": "stream",
     "text": [
      "answer: 멋진 뒷골목, 화려한 그래피티, 날아다니는 새, 햇살, 도시 풍경"
     ]
    }
   ],
   "source": [
    "few_prompt = FewShotPromptTemplate(\n",
    "    examples = examples, # 참고 예시 대상\n",
    "    example_prompt = examples_prompt, # 표현 정의 템플릿\n",
    "    suffix = \"question : {input}이미지 생성을 위한 프롬프트를 만들어줘\", # 실제 사용 템플릿\n",
    "    input_variables = [\"input\"]\n",
    ")\n",
    "answer = gpt4o.invoke(few_prompt.format(input = \"멋진 뒷골목에서 날아다니는 새\")) # 원하는 형식의 템플릿이 생성됨"
   ]
  },
  {
   "cell_type": "code",
   "execution_count": 177,
   "metadata": {},
   "outputs": [
    {
     "name": "stdout",
     "output_type": "stream",
     "text": [
      "물론입니다! 멋진 뒷골목에서 날아다니는 새 이미지를 위한 프롬프트는 다음과 같습니다:\n",
      "\n",
      "\"화창한 오후, 고풍스러운 벽돌 건물과 화려한 그래피티로 가득한 뒷골목. 그 사이로 다양한 색깔의 새들이 자유롭게 날아다니며, 햇살에 반짝이는 깃털이 아름답게 빛난다. 뒷골목의 작은 카페 테라스에는 사람들이 앉아 새들을 바라보며 여유로운 시간을 보내고 있다. 새들의 날갯짓이 생동감 넘치는 장면을 만들어내는 순간을 포착한 이미지.\"\n",
      "\n",
      "이 프롬프트를 사용하여 원하는 이미지를 생성해보세요!"
     ]
    }
   ],
   "source": [
    "gpt4o.invoke(\"멋진 뒷골목에서 날아다니는 새이미지를 위한 프롬프트를 생성해줘\");"
   ]
  },
  {
   "cell_type": "code",
   "execution_count": 178,
   "metadata": {},
   "outputs": [
    {
     "name": "stdout",
     "output_type": "stream",
     "text": [
      "content='answer: 멋진 뒷골목, 화려한 그래피티, 날아다니는 새, 햇살, 도시 풍경' additional_kwargs={} response_metadata={'finish_reason': 'stop', 'model_name': 'gpt-4o-mini-2024-07-18', 'system_fingerprint': 'fp_0705bf87c0'} id='run-10767110-e047-4a43-9e2d-25a16ab45e71-0'\n"
     ]
    }
   ],
   "source": [
    "print(answer)"
   ]
  },
  {
   "cell_type": "markdown",
   "metadata": {},
   "source": [
    "### Example Selector(동적 Few-shot)\n",
    "- `SemanticSimilarityExampleSelector` : 의미의 유사도를 계산하여 적절한 예시를 선택\n",
    "- `OpenAIEmbeddings()` : 텍스트의 벡터화 (임베딩화)\n",
    "- `Chroma` : 벡터화하여 저장"
   ]
  },
  {
   "cell_type": "code",
   "execution_count": null,
   "metadata": {},
   "outputs": [],
   "source": [
    "from langchain.prompts.example_selector import SemanticSimilarityExampleSelector # 사용자 입력과, 예시 샘플의 유사도 비교\n",
    "from langchain.vectorstores import Chroma # 임베딩 된 벡터를 비교\n",
    "from langchain.embeddings import OpenAIEmbeddings # 문자의 임베딩 (수치화)\n",
    "from langchain.prompts import FewShotPromptTemplate, PromptTemplate\n",
    "\n",
    "example_prompt = PromptTemplate(\n",
    "    input_variables=[\"input\",\"output\"],\n",
    "    template=\"input = {input}, output = {output}\",\n",
    ")\n",
    "\n",
    "examples = [\n",
    "    {\"input\" : \"happy\", \"output\" : \"unhappy\"},\n",
    "    {\"input\" : \"plane\", \"output\" : \"ship\"},\n",
    "    {\"input\" : \"big plane\", \"output\" : \"small plane\"}\n",
    "]"
   ]
  },
  {
   "cell_type": "code",
   "execution_count": 21,
   "metadata": {},
   "outputs": [],
   "source": [
    "example_selector = SemanticSimilarityExampleSelector.from_examples( # 의미적 유사도를 계산하여\n",
    "    examples=examples, # 예시s\n",
    "    embeddings=OpenAIEmbeddings(), # 임베딩 벡터라이제이션\n",
    "    vectorstore_cls=Chroma, # 벡터 저장 소\n",
    "    k=1 # 가장 유사한 상위 k 개\n",
    ")\n",
    "\n",
    "similar_prompt = FewShotPromptTemplate(\n",
    "    example_selector=example_selector,\n",
    "    example_prompt=example_prompt,\n",
    "    prefix=\"give me an opposite word\",\n",
    "    suffix=\"input is {word}, and output is\",\n",
    "    input_variables = [\"word\"],\n",
    ")"
   ]
  },
  {
   "cell_type": "code",
   "execution_count": 50,
   "metadata": {},
   "outputs": [
    {
     "name": "stdout",
     "output_type": "stream",
     "text": [
      "give me an opposite word\n",
      "\n",
      "input = plane, output = ship\n",
      "\n",
      "input is manpower, and output is\n"
     ]
    }
   ],
   "source": [
    "print(similar_prompt.format(word=\"manpower\"))"
   ]
  },
  {
   "cell_type": "code",
   "execution_count": 55,
   "metadata": {},
   "outputs": [
    {
     "name": "stdout",
     "output_type": "stream",
     "text": [
      "output = automation"
     ]
    }
   ],
   "source": [
    "gpt4o.invoke(similar_prompt.format(word=\"manpower\"));"
   ]
  },
  {
   "cell_type": "markdown",
   "metadata": {},
   "source": [
    "### out parser를 이용하여 출력값 조정 (서비스 결합)"
   ]
  },
  {
   "cell_type": "code",
   "execution_count": 75,
   "metadata": {},
   "outputs": [
    {
     "data": {
      "text/plain": [
       "'Your response should be a list of comma separated values, eg: `foo, bar, baz` or `foo,bar,baz`'"
      ]
     },
     "execution_count": 75,
     "metadata": {},
     "output_type": "execute_result"
    }
   ],
   "source": [
    "from langchain.output_parsers import CommaSeparatedListOutputParser\n",
    "from langchain.prompts import PromptTemplate, ChatPromptTemplate, HumanMessagePromptTemplate\n",
    "\n",
    "output_parser = CommaSeparatedListOutputParser()\n",
    "output_parser.get_format_instructions()"
   ]
  },
  {
   "cell_type": "code",
   "execution_count": null,
   "metadata": {},
   "outputs": [],
   "source": [
    "format_instuctions = output_parser.get_format_instructions()\n",
    "\n",
    "prompt = PromptTemplate(\n",
    "    template=\"give me 5 {subject} recommends. \\{format_instuctions}\",\n",
    "    input_variables=[\"subject\"], # 사용자 입력부분\n",
    "    partial_variables={\"format_instructions\": format_instuctions}\n",
    ")"
   ]
  },
  {
   "cell_type": "code",
   "execution_count": 111,
   "metadata": {},
   "outputs": [
    {
     "data": {
      "text/plain": [
       "'give me 5 nice place to get a job recommends. \\\\Your response should be a list of comma separated values, eg: `foo, bar, baz` or `foo,bar,baz`'"
      ]
     },
     "execution_count": 111,
     "metadata": {},
     "output_type": "execute_result"
    }
   ],
   "source": [
    "input_prompt = prompt.format(subject=\"nice place to get a job\",\n",
    "                             format_instuctions = format_instuctions)\n",
    "input_prompt"
   ]
  },
  {
   "cell_type": "code",
   "execution_count": 112,
   "metadata": {},
   "outputs": [
    {
     "name": "stdout",
     "output_type": "stream",
     "text": [
      "Google, Microsoft, IBM, Amazon, Salesforce"
     ]
    }
   ],
   "source": [
    "gpt4o.invoke(input_prompt);"
   ]
  }
 ],
 "metadata": {
  "kernelspec": {
   "display_name": "transformer",
   "language": "python",
   "name": "python3"
  },
  "language_info": {
   "codemirror_mode": {
    "name": "ipython",
    "version": 3
   },
   "file_extension": ".py",
   "mimetype": "text/x-python",
   "name": "python",
   "nbconvert_exporter": "python",
   "pygments_lexer": "ipython3",
   "version": "3.11.10"
  }
 },
 "nbformat": 4,
 "nbformat_minor": 2
}
